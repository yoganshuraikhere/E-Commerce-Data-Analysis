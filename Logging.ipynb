{
 "cells": [
  {
   "cell_type": "code",
   "execution_count": 0,
   "metadata": {
    "application/vnd.databricks.v1+cell": {
     "cellMetadata": {},
     "inputWidgets": {},
     "nuid": "623e0e26-df54-49fa-82a7-3db510a91560",
     "showTitle": false,
     "tableResultSettingsMap": {},
     "title": ""
    }
   },
   "outputs": [],
   "source": [
    "try:\n",
    "    import logging\n",
    "    import time\n",
    "    import datetime\n",
    "    from pytz import timezone\n",
    "except ImportError as ex:\n",
    "    print(ex)"
   ]
  },
  {
   "cell_type": "code",
   "execution_count": 0,
   "metadata": {
    "application/vnd.databricks.v1+cell": {
     "cellMetadata": {},
     "inputWidgets": {},
     "nuid": "9d00e4ba-45ca-4c28-82cb-705d61afe4e5",
     "showTitle": false,
     "tableResultSettingsMap": {},
     "title": ""
    }
   },
   "outputs": [
    {
     "output_type": "stream",
     "name": "stdout",
     "output_type": "stream",
     "text": [
      "/tmp/custom_log2022-02-11 12-27-06.log\n"
     ]
    }
   ],
   "source": [
    "'''\n",
    "Creating log directory and handling files\n",
    "Setting Logging level\n",
    "'''\n",
    "\n",
    "try:\n",
    "    format = \"%Y-%m-%d %H-%M-%S\"\n",
    "    now_utc = datetime.datetime.now(timezone('UTC'))\n",
    "    now_asia = now_utc.astimezone(timezone('Asia/Kolkata'))\n",
    "    file_date = now_asia.strftime(format)\n",
    "    directory = '/tmp/'\n",
    "    filename = 'custom_log'+file_date+'.log'\n",
    "    logfile = directory + filename\n",
    "    print(logfile)\n",
    "    logger = logging.getLogger('custom_log')\n",
    "    logger.setLevel(logging.DEBUG)\n",
    "    fh = logging.FileHandler(logfile, mode = 'a')\n",
    "    ch = logging.StreamHandler()\n",
    "    ch.setLevel(logging.DEBUG)\n",
    "    formatter = logging.Formatter('%(asctime)s - %(name)s - %(levelname)s - %(message)s')\n",
    "    fh.setFormatter(formatter)\n",
    "    ch.setFormatter(formatter)\n",
    "    if(logger.hasHandlers()):\n",
    "        logger.handlers.clear()\n",
    "    logger.addHandler(fh)\n",
    "    logger.addHandler(ch)\n",
    "except SyntaxError as ex:\n",
    "    print(ex)\n",
    "except AttributeError as ex:\n",
    "    print(ex)\n",
    "except Exception as ex:\n",
    "    print(ex)"
   ]
  }
 ],
 "metadata": {
  "application/vnd.databricks.v1+notebook": {
   "computePreferences": null,
   "dashboards": [],
   "environmentMetadata": null,
   "language": "python",
   "notebookMetadata": {
    "pythonIndentUnit": 4
   },
   "notebookName": "Logging",
   "widgets": {}
  },
  "language_info": {
   "name": "python"
  }
 },
 "nbformat": 4,
 "nbformat_minor": 0
}